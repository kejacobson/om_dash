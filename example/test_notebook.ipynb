{
 "cells": [
  {
   "cell_type": "code",
   "execution_count": null,
   "metadata": {},
   "outputs": [],
   "source": [
    "from om_dash.monitor_opt import GuiOptimizationHistory\n",
    "from dash.dependencies import Input, Output, State\n",
    "from jupyter_dash import JupyterDash"
   ]
  },
  {
   "cell_type": "code",
   "execution_count": null,
   "metadata": {},
   "outputs": [],
   "source": [
    "gui = GuiOptimizationHistory()\n",
    "\n",
    "#app = dash.Dash()\n",
    "app = JupyterDash(__name__)\n",
    "\n",
    "app.layout = gui.full_layout\n",
    "\n",
    "@app.callback(\n",
    "    [Output('live_update_interval', 'interval'),\n",
    "        Output('opt_hist_graph', 'figure')],\n",
    "    [Input('start_button', 'n_clicks')],\n",
    "    [State('refresh_interval_input', 'value'),\n",
    "        State('recorder_file', 'value')])\n",
    "def set_live_update_interval_and_initial_plot(n_clicks, interval_sec, recorder_file):\n",
    "    if n_clicks > 0:\n",
    "        interval_ms = interval_sec * 1000\n",
    "        gui.read_histories_from_recorder(recorder_file)\n",
    "    else:\n",
    "        interval_ms = 1e9\n",
    "    fig = gui.generate_history_fig()\n",
    "    return interval_ms, fig\n",
    "\n",
    "@app.callback(\n",
    "    Output('opt_hist_graph', 'extendData'),\n",
    "    [Input('live_update_interval', 'n_intervals')],\n",
    "    [State('recorder_file', 'value')])\n",
    "def update_plot_data(n_intervals, recorder_file):\n",
    "    gui.read_histories_from_recorder(recorder_file)\n",
    "    return gui.generate_extend_data_for_opt_hist_traces()\n",
    "\n",
    "@app.callback(\n",
    "    Output('opt_hist_export_html_status', 'children'),\n",
    "    [Input('opt_hist_export_html_button', 'n_clicks')],\n",
    "    [State('opt_hist_export_html_input', 'value')])\n",
    "def export_opt_history_html(n_clicks, filename):\n",
    "    status = ''\n",
    "    if n_clicks > 0:\n",
    "        status = gui.export_fig_as_html(gui.obj_con_hist_fig, filename)\n",
    "    return status\n",
    "\n",
    "app.run_server(mode='inline')"
   ]
  },
  {
   "cell_type": "code",
   "execution_count": null,
   "metadata": {},
   "outputs": [],
   "source": []
  }
 ],
 "metadata": {
  "interpreter": {
   "hash": "949777d72b0d2535278d3dc13498b2535136f6dfe0678499012e853ee9abcab1"
  },
  "kernelspec": {
   "display_name": "Python 3.9.7 64-bit",
   "name": "python3"
  },
  "language_info": {
   "codemirror_mode": {
    "name": "ipython",
    "version": 3
   },
   "file_extension": ".py",
   "mimetype": "text/x-python",
   "name": "python",
   "nbconvert_exporter": "python",
   "pygments_lexer": "ipython3",
   "version": "3.9.7"
  },
  "orig_nbformat": 4
 },
 "nbformat": 4,
 "nbformat_minor": 2
}
