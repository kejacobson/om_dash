{
 "cells": [
  {
   "cell_type": "code",
   "execution_count": 1,
   "metadata": {},
   "outputs": [
    {
     "name": "stderr",
     "output_type": "stream",
     "text": [
      "/Users/kejacob1/projects/mphys/OpenMDAO/openmdao/utils/general_utils.py:121: OMDeprecationWarning:simple_warning is deprecated.  Use openmdao.warnings.issue_warning instead.\n",
      "/Users/kejacob1/projects/mphys/OpenMDAO/openmdao/utils/notebook_utils.py:154: UserWarning:Tabulate is not installed. Run `pip install openmdao[notebooks]` to install required dependencies. Using ASCII for outputs.\n"
     ]
    }
   ],
   "source": [
    "from om_dash.monitor_opt import GuiOptimizationHistory\n",
    "from dash.dependencies import Input, Output, State\n",
    "from jupyter_dash import JupyterDash"
   ]
  },
  {
   "cell_type": "code",
   "execution_count": 2,
   "metadata": {},
   "outputs": [
    {
     "data": {
      "text/html": [
       "\n",
       "        <iframe\n",
       "            width=\"100%\"\n",
       "            height=\"650\"\n",
       "            src=\"http://127.0.0.1:8050/\"\n",
       "            frameborder=\"0\"\n",
       "            allowfullscreen\n",
       "        ></iframe>\n",
       "        "
      ],
      "text/plain": [
       "<IPython.lib.display.IFrame at 0x123eb1c40>"
      ]
     },
     "metadata": {},
     "output_type": "display_data"
    },
    {
     "name": "stdout",
     "output_type": "stream",
     "text": [
      "\u001b[1;31m---------------------------------------------------------------------------\u001b[0m\n",
      "\u001b[1;31mIndexError\u001b[0m                                Traceback (most recent call last)\n",
      "\u001b[1;32m<ipython-input-2-260cef570d3e>\u001b[0m in \u001b[0;36mupdate_plot_data\u001b[1;34m(\n",
      "    n_intervals=8,\n",
      "    recorder_file='paraboloid.sql'\n",
      ")\u001b[0m\n",
      "\u001b[0;32m     28\u001b[0m \u001b[1;32mdef\u001b[0m \u001b[0mupdate_plot_data\u001b[0m\u001b[1;33m(\u001b[0m\u001b[0mn_intervals\u001b[0m\u001b[1;33m,\u001b[0m \u001b[0mrecorder_file\u001b[0m\u001b[1;33m)\u001b[0m\u001b[1;33m:\u001b[0m\u001b[1;33m\u001b[0m\u001b[1;33m\u001b[0m\u001b[0m\n",
      "\u001b[0;32m     29\u001b[0m     \u001b[0mgui\u001b[0m\u001b[1;33m.\u001b[0m\u001b[0mread_histories_from_recorder\u001b[0m\u001b[1;33m(\u001b[0m\u001b[0mrecorder_file\u001b[0m\u001b[1;33m)\u001b[0m\u001b[1;33m\u001b[0m\u001b[1;33m\u001b[0m\u001b[0m\n",
      "\u001b[1;32m---> 30\u001b[1;33m     \u001b[1;32mreturn\u001b[0m \u001b[0mgui\u001b[0m\u001b[1;33m.\u001b[0m\u001b[0mgenerate_extend_data_for_opt_hist_traces\u001b[0m\u001b[1;33m(\u001b[0m\u001b[1;33m)\u001b[0m\u001b[1;33m\u001b[0m\u001b[1;33m\u001b[0m\u001b[0m\n",
      "\u001b[0m        \u001b[1;36mglobal\u001b[0m \u001b[0;36mgui.generate_extend_data_for_opt_hist_traces\u001b[0m \u001b[1;34m= <bound method GuiOptimizationHistory.generate_extend_data_for_opt_hist_traces of <om_dash.monitor_opt.GuiOptimizationHistory object at 0x123ca58e0>>\u001b[0m\n",
      "\u001b[0;32m     31\u001b[0m \u001b[1;33m\u001b[0m\u001b[0m\n",
      "\u001b[0;32m     32\u001b[0m \u001b[1;33m\u001b[0m\u001b[0m\n",
      "\n",
      "\u001b[1;32m/Users/kejacob1/projects/mphys/om_dash/om_dash/monitor_opt.py\u001b[0m in \u001b[0;36mgenerate_extend_data_for_opt_hist_traces\u001b[1;34m(\n",
      "    self=<om_dash.monitor_opt.GuiOptimizationHistory object>\n",
      ")\u001b[0m\n",
      "\u001b[0;32m    158\u001b[0m \u001b[1;33m\u001b[0m\u001b[0m\n",
      "\u001b[0;32m    159\u001b[0m         \u001b[1;32mif\u001b[0m \u001b[0mall_data\u001b[0m\u001b[1;33m.\u001b[0m\u001b[0mshape\u001b[0m\u001b[1;33m[\u001b[0m\u001b[1;36m0\u001b[0m\u001b[1;33m]\u001b[0m \u001b[1;33m>\u001b[0m \u001b[1;36m0\u001b[0m\u001b[1;33m:\u001b[0m\u001b[1;33m\u001b[0m\u001b[1;33m\u001b[0m\u001b[0m\n",
      "\u001b[1;32m--> 160\u001b[1;33m             \u001b[0mnew_iterations\u001b[0m \u001b[1;33m=\u001b[0m \u001b[0mnp\u001b[0m\u001b[1;33m.\u001b[0m\u001b[0marange\u001b[0m\u001b[1;33m(\u001b[0m\u001b[0mself\u001b[0m\u001b[1;33m.\u001b[0m\u001b[0miterations\u001b[0m\u001b[1;33m[\u001b[0m\u001b[1;33m-\u001b[0m\u001b[1;36m1\u001b[0m\u001b[1;33m]\u001b[0m\u001b[1;33m+\u001b[0m\u001b[1;36m1\u001b[0m\u001b[1;33m,\u001b[0m \u001b[0mall_data\u001b[0m\u001b[1;33m.\u001b[0m\u001b[0mshape\u001b[0m\u001b[1;33m[\u001b[0m\u001b[1;36m0\u001b[0m\u001b[1;33m]\u001b[0m\u001b[1;33m)\u001b[0m\u001b[1;33m\u001b[0m\u001b[1;33m\u001b[0m\u001b[0m\n",
      "\u001b[0m        \u001b[1;36mglobal\u001b[0m \u001b[0;36mnew_iterations\u001b[0m \u001b[1;34m= \u001b[1;36mundefined\u001b[0m\u001b[0m\u001b[1;34m\n",
      "        \u001b[0m\u001b[1;36mglobal\u001b[0m \u001b[0;36mnp.arange\u001b[0m \u001b[1;34m= <built-in function arange>\u001b[0m\u001b[1;34m\n",
      "        \u001b[0m\u001b[0;36mself.iterations\u001b[0m \u001b[1;34m= array([], dtype=int64)\u001b[0m\u001b[1;34m\n",
      "        \u001b[0m\u001b[0;36mall_data.shape\u001b[0m \u001b[1;34m= (1, 3)\u001b[0m\n",
      "\u001b[0;32m    161\u001b[0m             \u001b[1;32mif\u001b[0m \u001b[0mnew_iterations\u001b[0m\u001b[1;33m.\u001b[0m\u001b[0msize\u001b[0m \u001b[1;33m>\u001b[0m \u001b[1;36m0\u001b[0m\u001b[1;33m:\u001b[0m\u001b[1;33m\u001b[0m\u001b[1;33m\u001b[0m\u001b[0m\n",
      "\u001b[0;32m    162\u001b[0m                 extend_data = dict(x=[new_iterations.copy() for _ in range(n_traces)],\n",
      "\n",
      "\u001b[1;31mIndexError\u001b[0m: index -1 is out of bounds for axis 0 with size 0\n",
      "\n",
      "\u001b[1;31m---------------------------------------------------------------------------\u001b[0m\n",
      "\u001b[1;31mIndexError\u001b[0m                                Traceback (most recent call last)\n",
      "\u001b[1;32m<ipython-input-2-260cef570d3e>\u001b[0m in \u001b[0;36mupdate_plot_data\u001b[1;34m(\n",
      "    n_intervals=9,\n",
      "    recorder_file='paraboloid.sql'\n",
      ")\u001b[0m\n",
      "\u001b[0;32m     28\u001b[0m \u001b[1;32mdef\u001b[0m \u001b[0mupdate_plot_data\u001b[0m\u001b[1;33m(\u001b[0m\u001b[0mn_intervals\u001b[0m\u001b[1;33m,\u001b[0m \u001b[0mrecorder_file\u001b[0m\u001b[1;33m)\u001b[0m\u001b[1;33m:\u001b[0m\u001b[1;33m\u001b[0m\u001b[1;33m\u001b[0m\u001b[0m\n",
      "\u001b[0;32m     29\u001b[0m     \u001b[0mgui\u001b[0m\u001b[1;33m.\u001b[0m\u001b[0mread_histories_from_recorder\u001b[0m\u001b[1;33m(\u001b[0m\u001b[0mrecorder_file\u001b[0m\u001b[1;33m)\u001b[0m\u001b[1;33m\u001b[0m\u001b[1;33m\u001b[0m\u001b[0m\n",
      "\u001b[1;32m---> 30\u001b[1;33m     \u001b[1;32mreturn\u001b[0m \u001b[0mgui\u001b[0m\u001b[1;33m.\u001b[0m\u001b[0mgenerate_extend_data_for_opt_hist_traces\u001b[0m\u001b[1;33m(\u001b[0m\u001b[1;33m)\u001b[0m\u001b[1;33m\u001b[0m\u001b[1;33m\u001b[0m\u001b[0m\n",
      "\u001b[0m        \u001b[1;36mglobal\u001b[0m \u001b[0;36mgui.generate_extend_data_for_opt_hist_traces\u001b[0m \u001b[1;34m= <bound method GuiOptimizationHistory.generate_extend_data_for_opt_hist_traces of <om_dash.monitor_opt.GuiOptimizationHistory object at 0x123ca58e0>>\u001b[0m\n",
      "\u001b[0;32m     31\u001b[0m \u001b[1;33m\u001b[0m\u001b[0m\n",
      "\u001b[0;32m     32\u001b[0m \u001b[1;33m\u001b[0m\u001b[0m\n",
      "\n",
      "\u001b[1;32m/Users/kejacob1/projects/mphys/om_dash/om_dash/monitor_opt.py\u001b[0m in \u001b[0;36mgenerate_extend_data_for_opt_hist_traces\u001b[1;34m(\n",
      "    self=<om_dash.monitor_opt.GuiOptimizationHistory object>\n",
      ")\u001b[0m\n",
      "\u001b[0;32m    158\u001b[0m \u001b[1;33m\u001b[0m\u001b[0m\n",
      "\u001b[0;32m    159\u001b[0m         \u001b[1;32mif\u001b[0m \u001b[0mall_data\u001b[0m\u001b[1;33m.\u001b[0m\u001b[0mshape\u001b[0m\u001b[1;33m[\u001b[0m\u001b[1;36m0\u001b[0m\u001b[1;33m]\u001b[0m \u001b[1;33m>\u001b[0m \u001b[1;36m0\u001b[0m\u001b[1;33m:\u001b[0m\u001b[1;33m\u001b[0m\u001b[1;33m\u001b[0m\u001b[0m\n",
      "\u001b[1;32m--> 160\u001b[1;33m             \u001b[0mnew_iterations\u001b[0m \u001b[1;33m=\u001b[0m \u001b[0mnp\u001b[0m\u001b[1;33m.\u001b[0m\u001b[0marange\u001b[0m\u001b[1;33m(\u001b[0m\u001b[0mself\u001b[0m\u001b[1;33m.\u001b[0m\u001b[0miterations\u001b[0m\u001b[1;33m[\u001b[0m\u001b[1;33m-\u001b[0m\u001b[1;36m1\u001b[0m\u001b[1;33m]\u001b[0m\u001b[1;33m+\u001b[0m\u001b[1;36m1\u001b[0m\u001b[1;33m,\u001b[0m \u001b[0mall_data\u001b[0m\u001b[1;33m.\u001b[0m\u001b[0mshape\u001b[0m\u001b[1;33m[\u001b[0m\u001b[1;36m0\u001b[0m\u001b[1;33m]\u001b[0m\u001b[1;33m)\u001b[0m\u001b[1;33m\u001b[0m\u001b[1;33m\u001b[0m\u001b[0m\n",
      "\u001b[0m        \u001b[1;36mglobal\u001b[0m \u001b[0;36mnew_iterations\u001b[0m \u001b[1;34m= \u001b[1;36mundefined\u001b[0m\u001b[0m\u001b[1;34m\n",
      "        \u001b[0m\u001b[1;36mglobal\u001b[0m \u001b[0;36mnp.arange\u001b[0m \u001b[1;34m= <built-in function arange>\u001b[0m\u001b[1;34m\n",
      "        \u001b[0m\u001b[0;36mself.iterations\u001b[0m \u001b[1;34m= array([], dtype=int64)\u001b[0m\u001b[1;34m\n",
      "        \u001b[0m\u001b[0;36mall_data.shape\u001b[0m \u001b[1;34m= (1, 3)\u001b[0m\n",
      "\u001b[0;32m    161\u001b[0m             \u001b[1;32mif\u001b[0m \u001b[0mnew_iterations\u001b[0m\u001b[1;33m.\u001b[0m\u001b[0msize\u001b[0m \u001b[1;33m>\u001b[0m \u001b[1;36m0\u001b[0m\u001b[1;33m:\u001b[0m\u001b[1;33m\u001b[0m\u001b[1;33m\u001b[0m\u001b[0m\n",
      "\u001b[0;32m    162\u001b[0m                 extend_data = dict(x=[new_iterations.copy() for _ in range(n_traces)],\n",
      "\n",
      "\u001b[1;31mIndexError\u001b[0m: index -1 is out of bounds for axis 0 with size 0\n",
      "\n"
     ]
    }
   ],
   "source": [
    "gui = GuiOptimizationHistory()\n",
    "\n",
    "#app = dash.Dash()\n",
    "app = JupyterDash(__name__)\n",
    "app.layout = gui.full_layout\n",
    "\n",
    "\n",
    "@app.callback(\n",
    "    [Output('live_update_interval', 'interval'),\n",
    "        Output('opt_hist_graph', 'figure')],\n",
    "    [Input('start_button', 'n_clicks')],\n",
    "    [State('refresh_interval_input', 'value'),\n",
    "        State('recorder_file', 'value')])\n",
    "def set_live_update_interval_and_initial_plot(n_clicks, interval_sec, recorder_file):\n",
    "    if n_clicks > 0:\n",
    "        interval_ms = interval_sec * 1000\n",
    "        gui.read_histories_from_recorder(recorder_file)\n",
    "    else:\n",
    "        interval_ms = 1e9\n",
    "    fig = gui.generate_history_fig()\n",
    "    return interval_ms, fig\n",
    "\n",
    "\n",
    "@app.callback(\n",
    "    Output('opt_hist_graph', 'extendData'),\n",
    "    [Input('live_update_interval', 'n_intervals')],\n",
    "    [State('recorder_file', 'value')])\n",
    "def update_plot_data(n_intervals, recorder_file):\n",
    "    gui.read_histories_from_recorder(recorder_file)\n",
    "    return gui.generate_extend_data_for_opt_hist_traces()\n",
    "\n",
    "\n",
    "@app.callback(\n",
    "    Output('opt_hist_export_html_status', 'children'),\n",
    "    [Input('opt_hist_export_html_button', 'n_clicks')],\n",
    "    [State('opt_hist_export_html_input', 'value')])\n",
    "def export_opt_history_html(n_clicks, filename):\n",
    "    status = ''\n",
    "    if n_clicks > 0:\n",
    "        status = gui.export_fig_as_html(gui.obj_con_hist_fig, filename)\n",
    "    return status\n",
    "\n",
    "app.run_server(mode='inline')"
   ]
  },
  {
   "cell_type": "code",
   "execution_count": null,
   "metadata": {},
   "outputs": [],
   "source": []
  }
 ],
 "metadata": {
  "interpreter": {
   "hash": "949777d72b0d2535278d3dc13498b2535136f6dfe0678499012e853ee9abcab1"
  },
  "kernelspec": {
   "display_name": "Python 3.9.7 64-bit",
   "name": "python3"
  },
  "language_info": {
   "codemirror_mode": {
    "name": "ipython",
    "version": 3
   },
   "file_extension": ".py",
   "mimetype": "text/x-python",
   "name": "python",
   "nbconvert_exporter": "python",
   "pygments_lexer": "ipython3",
   "version": "3.9.7"
  },
  "orig_nbformat": 4
 },
 "nbformat": 4,
 "nbformat_minor": 2
}
